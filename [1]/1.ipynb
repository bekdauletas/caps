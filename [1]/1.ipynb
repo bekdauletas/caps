{
 "cells": [
  {
   "cell_type": "code",
   "execution_count": 1,
   "metadata": {},
   "outputs": [],
   "source": [
    "import pandas as pd\n",
    "import numpy as np\n",
    "from scipy import stats\n",
    "import matplotlib.pyplot as plt"
   ]
  },
  {
   "cell_type": "code",
   "execution_count": 5,
   "metadata": {},
   "outputs": [],
   "source": [
    "def analyze_survey_data(csv_file_path):\n",
    "    \"\"\"\n",
    "    Analyze survey data using Simple Random Sampling and Clustered Random Sampling\n",
    "    \n",
    "    Parameters:\n",
    "    csv_file_path (str): Path to the CSV file containing survey data\n",
    "    \"\"\"\n",
    "    # Load the data from CSV file\n",
    "    try:\n",
    "        data = pd.read_csv(csv_file_path)\n",
    "        print(f\"Successfully loaded data with {len(data)} records\")\n",
    "        print(\"First few rows:\")\n",
    "        print(data.head())\n",
    "    except Exception as e:\n",
    "        print(f\"Error loading CSV file: {e}\")\n",
    "        return\n",
    "    \n",
    "    # Check if the data contains a column for survey responses and cluster IDs\n",
    "    if 'response' not in data.columns:\n",
    "        print(\"Warning: 'response' column not found. Using first numeric column as response data.\")\n",
    "        numeric_cols = data.select_dtypes(include=[np.number]).columns\n",
    "        if len(numeric_cols) == 0:\n",
    "            print(\"Error: No numeric columns found in the dataset.\")\n",
    "            return\n",
    "        response_col = numeric_cols[0]\n",
    "        data['response'] = data[response_col]\n",
    "        print(f\"Using column '{response_col}' as response data.\")\n",
    "    \n",
    "    if 'cluster_id' not in data.columns:\n",
    "        print(\"Warning: 'cluster_id' column not found. Using first categorical column as cluster IDs.\")\n",
    "        categorical_cols = data.select_dtypes(include=['object', 'category']).columns\n",
    "        if len(categorical_cols) == 0:\n",
    "            print(\"Note: No categorical columns found. Creating a default cluster column with 8 clusters.\")\n",
    "            data['cluster_id'] = np.random.randint(1, 9, size=len(data))\n",
    "        else:\n",
    "            cluster_col = categorical_cols[0]\n",
    "            data['cluster_id'] = data[cluster_col]\n",
    "            print(f\"Using column '{cluster_col}' as cluster identifiers.\")"
   ]
  },
  {
   "cell_type": "code",
   "execution_count": 6,
   "metadata": {},
   "outputs": [
    {
     "name": "stdout",
     "output_type": "stream",
     "text": [
      "\n",
      "==== Simple Random Sampling Analysis ====\n"
     ]
    },
    {
     "ename": "NameError",
     "evalue": "name 'data' is not defined",
     "output_type": "error",
     "traceback": [
      "\u001b[1;31m---------------------------------------------------------------------------\u001b[0m",
      "\u001b[1;31mNameError\u001b[0m                                 Traceback (most recent call last)",
      "Cell \u001b[1;32mIn[6], line 5\u001b[0m\n\u001b[0;32m      2\u001b[0m \u001b[38;5;28mprint\u001b[39m(\u001b[38;5;124m\"\u001b[39m\u001b[38;5;130;01m\\n\u001b[39;00m\u001b[38;5;124m==== Simple Random Sampling Analysis ====\u001b[39m\u001b[38;5;124m\"\u001b[39m)\n\u001b[0;32m      4\u001b[0m \u001b[38;5;66;03m# Calculate mean for SRS\u001b[39;00m\n\u001b[1;32m----> 5\u001b[0m srs_mean \u001b[38;5;241m=\u001b[39m \u001b[43mdata\u001b[49m[\u001b[38;5;124m'\u001b[39m\u001b[38;5;124mresponse\u001b[39m\u001b[38;5;124m'\u001b[39m]\u001b[38;5;241m.\u001b[39mmean()\n\u001b[0;32m      6\u001b[0m \u001b[38;5;28mprint\u001b[39m(\u001b[38;5;124mf\u001b[39m\u001b[38;5;124m\"\u001b[39m\u001b[38;5;124m1) Mean (SRS): \u001b[39m\u001b[38;5;132;01m{\u001b[39;00msrs_mean\u001b[38;5;132;01m:\u001b[39;00m\u001b[38;5;124m.2f\u001b[39m\u001b[38;5;132;01m}\u001b[39;00m\u001b[38;5;124m\"\u001b[39m)\n\u001b[0;32m      8\u001b[0m \u001b[38;5;66;03m# Calculate standard error for SRS\u001b[39;00m\n",
      "\u001b[1;31mNameError\u001b[0m: name 'data' is not defined"
     ]
    }
   ],
   "source": [
    "    # 1. Simple Random Sampling (SRS)\n",
    "    print(\"\\n==== Simple Random Sampling Analysis ====\")\n",
    "    \n",
    "    # Calculate mean for SRS\n",
    "    srs_mean = data['response'].mean()\n",
    "    print(f\"1) Mean (SRS): {srs_mean:.2f}\")\n",
    "    \n",
    "    # Calculate standard error for SRS\n",
    "    n = len(data)\n",
    "    srs_std = data['response'].std(ddof=1)  # Sample standard deviation\n",
    "    srs_se = srs_std / np.sqrt(n)\n",
    "    print(f\"2) Standard Error (SRS): {srs_se:.4f}\")\n",
    "    \n",
    "    # Calculate 95% confidence interval\n",
    "    t_value = 2.04  # As specified in the assignment\n",
    "    margin_of_error = t_value * srs_se\n",
    "    ci_upper = srs_mean + margin_of_error\n",
    "    ci_lower = srs_mean - margin_of_error\n",
    "    print(f\"3) 95% Confidence Interval (SRS):\")\n",
    "    print(f\"   Upper limit: {ci_upper:.4f}\")\n",
    "    print(f\"   Lower limit: {ci_lower:.4f}\")"
   ]
  },
  {
   "cell_type": "code",
   "execution_count": null,
   "metadata": {},
   "outputs": [
    {
     "ename": "SyntaxError",
     "evalue": "unterminated string literal (detected at line 17) (3356041533.py, line 17)",
     "output_type": "error",
     "traceback": [
      "\u001b[1;36m  Cell \u001b[1;32mIn[4], line 17\u001b[1;36m\u001b[0m\n\u001b[1;33m    plt.title('Comparison of SRS and Clustered Random Sampling\u001b[0m\n\u001b[1;37m              ^\u001b[0m\n\u001b[1;31mSyntaxError\u001b[0m\u001b[1;31m:\u001b[0m unterminated string literal (detected at line 17)\n"
     ]
    }
   ],
   "source": [
    "    # Calculate additional statistics\n",
    "    d_squared = d_value ** 2\n",
    "    print(f\"4) d-squared: {d_squared:.4f}\")\n",
    "    \n",
    "    n_avg = data.groupby('cluster_id').size().mean()\n",
    "    roh = (d_squared - 1) / (n_avg - 1) if n_avg > 1 else 0\n",
    "    print(f\"5) Intraclass correlation (roh): {roh:.4f}\")\n",
    "    \n",
    "    Neff = n / d_squared\n",
    "    print(f\"6) Effective sample size (Neff): {Neff:.4f}\")\n",
    "    \n",
    "    # Create visualization\n",
    "    plt.figure(figsize=(10, 6))\n",
    "    plt.bar(['SRS Mean', 'Clustered Mean'], [srs_mean, crs_mean])\n",
    "    plt.errorbar(['SRS Mean', 'Clustered Mean'], [srs_mean, crs_mean], \n",
    "                 yerr=[srs_se, crs_se], fmt='o', color='black')\n",
    "    plt.title('Comparison of SRS and Clustered Random Sampling')"
   ]
  },
  {
   "cell_type": "code",
   "execution_count": 7,
   "metadata": {},
   "outputs": [
    {
     "name": "stdout",
     "output_type": "stream",
     "text": [
      "Error loading CSV file: 'utf-8' codec can't decode bytes in position 15-16: invalid continuation byte\n"
     ]
    }
   ],
   "source": [
    "# Example usage with results display\n",
    "results = analyze_survey_data('Question1_Final_CP.xlsx')\n",
    "if results:\n",
    "    print(\"\\n==== Summary of Results (Rounded as Required) ====\")\n",
    "    for key, value in results.items():\n",
    "        print(f\"{key}: {value}\")"
   ]
  }
 ],
 "metadata": {
  "kernelspec": {
   "display_name": "Python 3",
   "language": "python",
   "name": "python3"
  },
  "language_info": {
   "codemirror_mode": {
    "name": "ipython",
    "version": 3
   },
   "file_extension": ".py",
   "mimetype": "text/x-python",
   "name": "python",
   "nbconvert_exporter": "python",
   "pygments_lexer": "ipython3",
   "version": "3.12.3"
  }
 },
 "nbformat": 4,
 "nbformat_minor": 2
}
